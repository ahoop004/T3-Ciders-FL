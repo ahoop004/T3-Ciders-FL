{
 "cells": [
  {
   "cell_type": "markdown",
   "metadata": {},
   "source": [
    "# Introduction to Federated Learning\n",
    "\n",
    "## Overview\n",
    "\n",
    "**Teaching:** 15 min  \n",
    "**Exercises:** 0 min\n",
    "\n",
    "**Questions**\n",
    "- What is Federated Learning?\n",
    "- How does Federated Learning differ from classical machine learning?\n",
    "- What are the key challenges that Federated Learning addresses?\n",
    "- How does the Federated Learning process work?\n",
    "\n",
    "**Objectives**\n",
    "- Understanding the fundamental concepts of Federated Learning\n",
    "- Recognizing the limitations of classical centralized machine learning\n",
    "- Comprehending the five-step Federated Learning process\n",
    "- Identifying real-world applications and use cases"
   ]
  },
  {
   "cell_type": "markdown",
   "metadata": {},
   "source": [
    "## What is Federated Learning?\n",
    "\n",
    "Federated Learning is a machine learning approach that enables model training across multiple decentralized devices or servers holding local data samples, without exchanging the data samples themselves. This paradigm represents a fundamental shift from traditional centralized machine learning approaches.\n",
    "\n",
    "<center>\n",
    "<img src=\"resources/1_what_is_fd_learning.jpg\" width=\"400\"/><br>\n",
    "Figure from: https://www.linkedin.com/pulse/federated-learning-healthcare-part-1-saber-ghadakzadeh-md-msc-phd/\n",
    "<center> \n",
    "\n"
   ]
  },
  {
   "cell_type": "markdown",
   "metadata": {},
   "source": [
    "\n",
    "### Key Principle\n",
    "\n",
    "The core principle of Federated Learning can be summarized in one line:\n",
    "- **Classical Machine Learning:** Move the data to the computation\n",
    "- **Federated Learning:** Move the computation to the data\n",
    "\n",
    "This approach enables machine learning in scenarios where data cannot be centralized due to privacy concerns, regulatory requirements, or practical constraints.\n",
    "\n",
    "\n"
   ]
  },
  {
   "cell_type": "markdown",
   "metadata": {},
   "source": [
    "## Classical Machine Learning vs. Federated Learning\n",
    "\n",
    "### Classical Machine Learning\n",
    "\n",
    "In classical machine learning, the process typically follows these steps:\n",
    "\n",
    "1. **Data Collection:** Data from multiple sources is collected and centralized on a single server or data center\n",
    "2. **Model Training:** The machine learning model is trained on the centralized dataset\n",
    "3. **Model Deployment:** The trained model is deployed to various devices or systems\n",
    "\n",
    "\n",
    "<center>\n",
    "<img src=\"resources/2_machine_learning.png\" width=\"400\"/><br>\n",
    "Figure from: https://7wdata.be/big-data/building-the-machine-learning-infrastructure/\n",
    "<center>"
   ]
  },
  {
   "cell_type": "markdown",
   "metadata": {},
   "source": [
    "### Federated Learning Approach\n",
    "\n",
    "Federated Learning reverses this process:\n",
    "\n",
    "1. **Model Distribution:** A global model is distributed to multiple devices/organizations\n",
    "2. **Local Training:** Each participant trains the model on their local data\n",
    "3. **Model Aggregation:** Only model updates (not raw data) are sent back to the central server\n",
    "4. **Global Update:** The central server aggregates these updates to improve the global model\n",
    "\n",
    "<center>\n",
    "<img src=\"resources/3_FD_learning.ppm\" width=\"400\"/><br>\n",
    "Figure from: https://www.researchgate.net/figure/The-framework-of-Federated-Learning-Graphical-illustration-of-the-working-principle-of_fig1_367191647\n",
    "<center>"
   ]
  },
  {
   "cell_type": "markdown",
   "metadata": {},
   "source": [
    "## Challenges of Classical Machine Learning\n",
    "\n",
    "Centralized machine learning approaches face several significant challenges. Strict data protection laws, such as GDPR in Europe and HIPAA in healthcare, often prohibit transferring and collecting sensitive data in a single location. Increasing privacy concerns also make users and organizations reluctant to share raw data outside their devices or institutions. Additionally, sending massive datasets over the internet requires high bandwidth and storage costs, and some applications demand immediate, on-device processing that centralized systems cannot provide. These factors together make it difficult for traditional centralized machine learning to meet real-world requirements.\n",
    "\n",
    "<!-- The centralized approach faces several significant limitations:\n",
    "\n",
    "### Regulatory Constraints\n",
    "\n",
    "Various data protection regulations prevent data centralization:\n",
    "- **GDPR (Europe):** Protects personal data and restricts cross-border data transfers\n",
    "- **CCPA (California):** Gives consumers control over their personal information\n",
    "- **HIPAA (Healthcare):** Protects patient health information\n",
    "- **Financial Regulations:** Various banking and financial data protection laws\n",
    "\n",
    "### Privacy Concerns\n",
    "\n",
    "Users increasingly demand privacy protection:\n",
    "- **Device Privacy:** Users expect sensitive data to remain on their devices\n",
    "- **Organizational Privacy:** Companies cannot share proprietary or sensitive data\n",
    "- **End-to-End Encryption:** Secure messaging and communication systems\n",
    "\n",
    "### Practical Limitations\n",
    "\n",
    "Technical and economic constraints:\n",
    "- **Bandwidth Limitations:** Large datasets cannot be efficiently transmitted\n",
    "- **Storage Costs:** Centralized storage of massive datasets is expensive\n",
    "- **Real-time Requirements:** Some applications require immediate local processing -->"
   ]
  },
  {
   "cell_type": "markdown",
   "metadata": {},
   "source": [
    "## The Federated Learning Process\n",
    "\n",
    "Federated learning operates through a systematic five-step process that repeats until the model reaches convergence:\n",
    "\n",
    "### Step 0: Initialize Global Model\n",
    "\n",
    "The process begins with a central server initializing the global model. The model parameters are either set randomly or loaded from a pre-trained checkpoint, similar to classical machine learning approaches. This global model serves as the starting point for all participants in the federation.\n",
    "\n",
    "### Step 1: Distribute Model to Client Nodes\n",
    "\n",
    "Once initialized, the global model is distributed to a subset of selected participating devices or organizations. Not all connected nodes necessarily participate in every training round; instead, a strategic selection is made to balance efficiency and representation of the data. Each chosen participant receives the same initial model parameters.\n",
    "\n",
    "### Step 2: Local Training on Client Data\n",
    "\n",
    "Each selected participant then performs local training using their own dataset. This local training is typically limited to a small number of epochs or mini-batches, as full convergence is not required at this stage. As a result, the models on individual clients develop slightly different parameters based on the unique characteristics of their local data.\n",
    "\n",
    "### Step 3: Return Model Updates\n",
    "\n",
    "After local training, each participant sends their model updates back to the central server. These updates generally consist of modified model parameters or gradients, ensuring that the raw training data remains on the local devices and is never transmitted. The collected updates reflect the learning that has occurred on the local datasets.\n",
    "\n",
    "### Step 4: Aggregate Model Updates\n",
    "\n",
    "Finally, the central server aggregates all received model updates to produce an improved global model. The most widely used aggregation method is Federated Averaging (FedAvg), in which individual updates are weighted according to the amount of local data used during training. Through this process, the central server integrates contributions from all participants and prepares the updated global model for the next round.\n",
    "\n",
    "### Step 5: Iterate Until Convergence\n",
    "\n",
    "Steps 1 through 4 together make up a single round of federated learning. This process is then repeated, with each new round beginning by distributing the most recently updated global model to the selected participants. Multiple rounds are typically required for the model to fully converge and reach optimal performance. With each iteration, the global model gradually improves as it incorporates knowledge from all participating data sources, leading to better overall accuracy and generalizability.\n"
   ]
  },
  {
   "cell_type": "markdown",
   "metadata": {},
   "source": [
    "## Real-World Applications\n",
    "\n",
    "Federated learning is increasingly being adopted across a range of industries, enabling organizations to benefit from collective intelligence while preserving privacy and regulatory compliance.\n",
    "\n",
    "### Healthcare\n",
    "\n",
    "In the healthcare sector, federated learning enables hospitals to collaborate on medical image analysis for tasks such as disease detection, without the need to share sensitive patient data. By aggregating insights from larger and more diverse datasets spread across institutions, hospitals can achieve improved diagnostic accuracy while adhering to strict regulations surrounding medical privacy. Additionally, federated learning is being used in drug discovery, where pharmaceutical companies can work together on developing new treatments. This approach allows for the sharing of learning outcomes while protecting proprietary research data, thereby accelerating the discovery of effective therapies.\n"
   ]
  },
  {
   "cell_type": "markdown",
   "metadata": {},
   "source": [
    "\n",
    "\n",
    "<center>\n",
    "<img src=\"resources/4_medical_detection.jpg\" width=\"400\"/><br>\n",
    "Figure from: https://www.linkedin.com/pulse/federated-learning-healthcare-part-1-saber-ghadakzadeh-md-msc-phd/\n",
    "<center>\n"
   ]
  },
  {
   "cell_type": "markdown",
   "metadata": {},
   "source": [
    "\n",
    "### Financial Services\n",
    "\n",
    "Financial institutions are leveraging federated learning for critical applications such as fraud detection. By collaborating on the development of fraud detection models, banks can benefit from a wider variety of financial data, significantly improving accuracy while keeping sensitive customer information protected. Another key area is risk assessment, where credit scoring models are trained across multiple institutions. This enables more accurate risk prediction without requiring the direct sharing of data, ensuring compliance with financial regulations and maintaining customer confidentiality.\n"
   ]
  },
  {
   "cell_type": "markdown",
   "metadata": {},
   "source": [
    "\n",
    "<center>\n",
    "<img src=\"resources/5_FD_bank.webp\" width=\"400\"/><br>\n",
    "Figure from: https://link.springer.com/article/10.1007/s00521-023-09410-2/figures/2\n",
    "<center>\n"
   ]
  },
  {
   "cell_type": "markdown",
   "metadata": {},
   "source": [
    "\n",
    "### Technology and IoT\n",
    "\n",
    "In technology and IoT, federated learning has become prominent in the development of mobile applications. For example, smartphone keyboard prediction models are trained on user devices, enabling personalized recommendations and improved user experiences, all while ensuring that personal data never leaves the device. Federated learning is also vital in autonomous vehicles, where car manufacturers share learning from driving experiences. This not only improves safety and allows for real-time adaptation to local driving conditions, but it also protects proprietary sensor data from exposure.\n"
   ]
  },
  {
   "cell_type": "markdown",
   "metadata": {},
   "source": [
    "\n",
    "<center>\n",
    "<img src=\"resources/7_FD_iot.ppm\" width=\"400\"/><br>\n",
    "Figure from: https://www.researchgate.net/publication/356249953/figure/fig1/AS:1092587159076864@1637504486141/Federated-Learning-for-IoT-Devices.ppm\n",
    "<center>\n",
    "\n",
    "<center>\n",
    "<img src=\"resources/6_FD_auto.png\" width=\"400\"/><br>\n",
    "Figure from: https://www.semanticscholar.org/paper/Federated-Semi-Supervised-Learning-for-Object-in-Chi-Wang/569aafb945854b09ba3a47fc6376d83cced03597\n",
    "<center>"
   ]
  },
  {
   "cell_type": "markdown",
   "metadata": {},
   "source": [
    "## Advantages of Federated Learning\n",
    "\n",
    "Federated learning offers several significant advantages that have contributed to its growing adoption across various sectors. \n",
    "\n",
    "### Privacy Preservation\n",
    "\n",
    "A key benefit of federated learning is its ability to preserve privacy. Since data never leaves its original location, raw information remains on local devices or servers, and only model updates—rather than the sensitive data itself—are shared with the central system. This approach maintains data sovereignty and provides organizations with greater control over their information. Furthermore, federated learning supports regulatory compliance by meeting strict data protection requirements that are common in many industries. It enables secure collaboration across different regions or countries without violating cross-border data regulations and is highly adaptable to sector-specific privacy mandates.\n",
    "\n",
    "### Scalability and Efficiency\n",
    "\n",
    "In terms of scalability and efficiency, federated learning leverages distributed processing, utilizing computing resources from multiple locations. This helps to ease the computational burden on any single central server, allowing for more efficient model training and even enabling real-time local processing where needed. Additionally, by transmitting only the necessary model parameters instead of the entire dataset, federated learning significantly reduces the amount of data transferred across the network. This optimization makes the approach highly suitable for environments with limited bandwidth, ensuring effective collaboration without overwhelming network resources."
   ]
  },
  {
   "cell_type": "markdown",
   "metadata": {},
   "source": [
    "## Challenges and Limitations\n",
    "\n",
    "Federated learning, while promising, also faces several challenges and limitations in its practical use.\n",
    "\n",
    "### Technical Challenges\n",
    "\n",
    "One notable challenge is the communication overhead involved. Federated learning requires many rounds of sending models back and forth between the central server and participants, which can lead to increased network latency and reliability problems. Keeping all participants synchronized throughout the training process can be difficult, especially when network conditions are less than ideal. Additionally, model convergence is typically slower than in centralized learning. This is partly because the data is often distributed unevenly—different participants might have very different types of data—which makes it harder for the collective model to learn efficiently. When the data across participants is not independent and identically distributed (non-IID), training can be even more complicated and less stable.\n",
    "\n",
    "### Security Considerations\n",
    "\n",
    "Security is another important concern in federated learning. Although the method is designed to protect raw data, it can still be vulnerable to privacy attacks, such as model inversion or membership inference, where an attacker tries to extract sensitive information from shared model updates. Therefore, extra privacy-preserving techniques, like differential privacy or secure aggregation, are often needed. Moreover, ensuring trust and verification among all participants can be challenging. It’s important to detect any malicious users who might provide false or harmful model updates, and to have methods in place for verifying that each contribution to the global model is legitimate.\n"
   ]
  },
  {
   "cell_type": "markdown",
   "metadata": {},
   "source": [
    "## Next Steps\n",
    "\n",
    "This introduction provides the foundation for understanding Federated Learning. In subsequent modules, we will explore:\n",
    "\n",
    "- **Practical Implementation:** Building federated learning systems\n",
    "- **Advanced Algorithms:** Sophisticated aggregation and optimization techniques\n",
    "- **Security and Privacy:** Advanced protection mechanisms\n",
    "- **Real-World Case Studies:** Successful deployments and applications\n",
    "\n",
    "Federated Learning represents not just a technical innovation, but a fundamental rethinking of how we approach collaborative AI development in a privacy-conscious world."
   ]
  }
 ],
 "metadata": {
  "kernelspec": {
   "display_name": "Python 3",
   "language": "python",
   "name": "python3"
  },
  "language_info": {
   "codemirror_mode": {
    "name": "ipython",
    "version": 3
   },
   "file_extension": ".py",
   "mimetype": "text/x-python",
   "name": "python",
   "nbconvert_exporter": "python",
   "pygments_lexer": "ipython3",
   "version": "3.8.5"
  }
 },
 "nbformat": 4,
 "nbformat_minor": 4
}
